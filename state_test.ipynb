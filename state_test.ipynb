{
 "cells": [
  {
   "cell_type": "code",
   "execution_count": null,
   "id": "138b78b8",
   "metadata": {},
   "outputs": [],
   "source": [
    "import ray"
   ]
  },
  {
   "cell_type": "code",
   "execution_count": null,
   "id": "45924a19",
   "metadata": {},
   "outputs": [],
   "source": [
    "ray.init()"
   ]
  },
  {
   "cell_type": "code",
   "execution_count": null,
   "id": "ab89be5b",
   "metadata": {},
   "outputs": [],
   "source": [
    "ray.cluster_resources()"
   ]
  },
  {
   "cell_type": "code",
   "execution_count": null,
   "id": "d1c9a117",
   "metadata": {},
   "outputs": [],
   "source": [
    "@ray.remote\n",
    "class SharedStore:\n",
    "    def __init__(self):\n",
    "        self.global_dict = {}\n",
    "\n",
    "    def set_global_var(self, key,var):\n",
    "        self.global_dict[key] = var\n",
    "\n",
    "    def get_global_var(self,key):\n",
    "        return self.global_dict[key]"
   ]
  },
  {
   "cell_type": "code",
   "execution_count": null,
   "id": "3969e8a0",
   "metadata": {},
   "outputs": [],
   "source": [
    "@ray.remote\n",
    "class Actor:\n",
    "    def __init__(self, sharedStore):\n",
    "        self.sharedStore = sharedStore\n",
    "\n",
    "    def f(self):\n",
    "        return ray.get(self.sharedStore.get_global_var.remote('asdf')) + 3"
   ]
  },
  {
   "cell_type": "code",
   "execution_count": null,
   "id": "e9e3b3f8",
   "metadata": {},
   "outputs": [],
   "source": [
    "sharedStore_actor = SharedStore.remote()\n",
    "actor = Actor.remote(sharedStore_actor)\n",
    "ray.get(sharedStore_actor.set_global_var.remote('asdf',4))\n",
    "# This returns 7 correctly."
   ]
  },
  {
   "cell_type": "code",
   "execution_count": null,
   "id": "875a6f15",
   "metadata": {},
   "outputs": [],
   "source": [
    "ray.get(sharedStore_actor.get_global_var.remote(\"asdf\"))"
   ]
  },
  {
   "cell_type": "code",
   "execution_count": null,
   "id": "9e2c2bae",
   "metadata": {},
   "outputs": [],
   "source": [
    "print(ray.get(actor.f.remote()))"
   ]
  },
  {
   "cell_type": "code",
   "execution_count": null,
   "id": "09c61475",
   "metadata": {},
   "outputs": [],
   "source": []
  }
 ],
 "metadata": {
  "kernelspec": {
   "display_name": "Python 3 (ipykernel)",
   "language": "python",
   "name": "python3"
  },
  "language_info": {
   "codemirror_mode": {
    "name": "ipython",
    "version": 3
   },
   "file_extension": ".py",
   "mimetype": "text/x-python",
   "name": "python",
   "nbconvert_exporter": "python",
   "pygments_lexer": "ipython3",
   "version": "3.10.7"
  }
 },
 "nbformat": 4,
 "nbformat_minor": 5
}
